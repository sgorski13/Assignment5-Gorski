{
 "cells": [
  {
   "cell_type": "code",
   "execution_count": 143,
   "metadata": {},
   "outputs": [],
   "source": [
    "## Assignment 5 - Gorski\n",
    "## load in packages\n",
    "\n",
    "import imageio\n",
    "from skimage.transform import resize\n",
    "import numpy as np\n",
    "from sklearn.ensemble import RandomForestClassifier\n",
    "import matplotlib.pyplot as plt\n",
    "import seaborn as sns; sns.set()\n"
   ]
  },
  {
   "cell_type": "code",
   "execution_count": 144,
   "metadata": {},
   "outputs": [],
   "source": [
    "## training data\n",
    "\n",
    "im = imageio.imread('C:\\\\Users\\\\student\\\\Pictures\\\\one.png')\n",
    "im1 = resize(im, (8, 8))\n",
    "im1 = im1[:,:,0]\n",
    "im1 = im1.reshape(-1).reshape(1, -1)\n",
    "\n",
    "Xtrain = im1\n",
    "\n",
    "im = imageio.imread('C:\\\\Users\\\\student\\\\Pictures\\\\two.png')\n",
    "im1 = resize(im, (8, 8))\n",
    "im1 = im1[:,:,0]\n",
    "im1 = im1.reshape(-1).reshape(1, -1)\n",
    "\n",
    "Xtrain = np.append(Xtrain, im1,0)\n",
    "\n",
    "im = imageio.imread('C:\\\\Users\\\\student\\\\Pictures\\\\three.png')\n",
    "im1 = resize(im, (8, 8))\n",
    "im1 = im1[:,:,0]\n",
    "im1 = im1.reshape(-1).reshape(1, -1)\n",
    "\n",
    "Xtrain = np.append(Xtrain, im1,0)\n",
    "\n",
    "im = imageio.imread('C:\\\\Users\\\\student\\\\Pictures\\\\four.png')\n",
    "im1 = resize(im, (8, 8))\n",
    "im1 = im1[:,:,0]\n",
    "im1 = im1.reshape(-1).reshape(1, -1)\n",
    "\n",
    "Xtrain = np.append(Xtrain, im1,0)\n",
    "\n",
    "im = imageio.imread('C:\\\\Users\\\\student\\\\Pictures\\\\five.png')\n",
    "im1 = resize(im, (8, 8))\n",
    "im1 = im1[:,:,0]\n",
    "im1 = im1.reshape(-1).reshape(1, -1)\n",
    "\n",
    "Xtrain = np.append(Xtrain, im1,0)\n",
    "\n",
    "im = imageio.imread('C:\\\\Users\\\\student\\\\Pictures\\\\six.png')\n",
    "im1 = resize(im, (8, 8))\n",
    "im1 = im1[:,:,0]\n",
    "im1 = im1.reshape(-1).reshape(1, -1)\n",
    "\n",
    "Xtrain = np.append(Xtrain, im1,0)\n",
    "\n",
    "im = imageio.imread('C:\\\\Users\\\\student\\\\Pictures\\\\seven.png')\n",
    "im1 = resize(im, (8, 8))\n",
    "im1 = im1[:,:,0]\n",
    "im1 = im1.reshape(-1).reshape(1, -1)\n",
    "\n",
    "Xtrain = np.append(Xtrain, im1,0)\n",
    "\n",
    "im = imageio.imread('C:\\\\Users\\\\student\\\\Pictures\\\\eight.png')\n",
    "im1 = resize(im, (8, 8))\n",
    "im1 = im1[:,:,0]\n",
    "im1 = im1.reshape(-1).reshape(1, -1)\n",
    "\n",
    "Xtrain = np.append(Xtrain, im1,0)\n",
    "\n",
    "im = imageio.imread('C:\\\\Users\\\\student\\\\Pictures\\\\nine.png')\n",
    "im1 = resize(im, (8, 8))\n",
    "im1 = im1[:,:,0]\n",
    "im1 = im1.reshape(-1).reshape(1, -1)\n",
    "\n",
    "Xtrain = np.append(Xtrain, im1,0)\n",
    "\n",
    "im = imageio.imread('C:\\\\Users\\\\student\\\\Pictures\\\\zero.png')\n",
    "im1 = resize(im, (8, 8))\n",
    "im1 = im1[:,:,0]\n",
    "im1 = im1.reshape(-1).reshape(1, -1)\n",
    "\n",
    "Xtrain = np.append(Xtrain, im1,0)\n",
    "\n",
    "im = imageio.imread('C:\\\\Users\\\\student\\\\Pictures\\\\zero1.png')\n",
    "im1 = resize(im, (8, 8))\n",
    "im1 = im1[:,:,0]\n",
    "im1 = im1.reshape(-1).reshape(1, -1)\n",
    "\n",
    "Xtrain = np.append(Xtrain, im1,0)\n",
    "\n",
    "im = imageio.imread('C:\\\\Users\\\\student\\\\Pictures\\\\zero2.png')\n",
    "im1 = resize(im, (8, 8))\n",
    "im1 = im1[:,:,0]\n",
    "im1 = im1.reshape(-1).reshape(1, -1)\n",
    "\n",
    "Xtrain = np.append(Xtrain, im1,0)\n",
    "\n",
    "im = imageio.imread('C:\\\\Users\\\\student\\\\Pictures\\\\zero3.png')\n",
    "im1 = resize(im, (8, 8))\n",
    "im1 = im1[:,:,0]\n",
    "im1 = im1.reshape(-1).reshape(1, -1)\n",
    "\n",
    "Xtrain = np.append(Xtrain, im1,0)\n",
    "\n",
    "im = imageio.imread('C:\\\\Users\\\\student\\\\Pictures\\\\zero4.png')\n",
    "im1 = resize(im, (8, 8))\n",
    "im1 = im1[:,:,0]\n",
    "im1 = im1.reshape(-1).reshape(1, -1)\n",
    "\n",
    "Xtrain = np.append(Xtrain, im1,0)\n",
    "\n",
    "im = imageio.imread('C:\\\\Users\\\\student\\\\Pictures\\\\zero5.png')\n",
    "im1 = resize(im, (8, 8))\n",
    "im1 = im1[:,:,0]\n",
    "im1 = im1.reshape(-1).reshape(1, -1)\n",
    "\n",
    "Xtrain = np.append(Xtrain, im1,0)\n",
    "\n",
    "im = imageio.imread('C:\\\\Users\\\\student\\\\Pictures\\\\one1.png')\n",
    "im1 = resize(im, (8, 8))\n",
    "im1 = im1[:,:,0]\n",
    "im1 = im1.reshape(-1).reshape(1, -1)\n",
    "\n",
    "Xtrain = np.append(Xtrain, im1,0)\n",
    "\n",
    "im = imageio.imread('C:\\\\Users\\\\student\\\\Pictures\\\\one2.png')\n",
    "im1 = resize(im, (8, 8))\n",
    "im1 = im1[:,:,0]\n",
    "im1 = im1.reshape(-1).reshape(1, -1)\n",
    "\n",
    "Xtrain = np.append(Xtrain, im1,0)\n",
    "\n",
    "im = imageio.imread('C:\\\\Users\\\\student\\\\Pictures\\\\one3.png')\n",
    "im1 = resize(im, (8, 8))\n",
    "im1 = im1[:,:,0]\n",
    "im1 = im1.reshape(-1).reshape(1, -1)\n",
    "\n",
    "Xtrain = np.append(Xtrain, im1,0)\n",
    "\n",
    "im = imageio.imread('C:\\\\Users\\\\student\\\\Pictures\\\\one4.png')\n",
    "im1 = resize(im, (8, 8))\n",
    "im1 = im1[:,:,0]\n",
    "im1 = im1.reshape(-1).reshape(1, -1)\n",
    "\n",
    "Xtrain = np.append(Xtrain, im1,0)\n",
    "\n",
    "im = imageio.imread('C:\\\\Users\\\\student\\\\Pictures\\\\one5.png')\n",
    "im1 = resize(im, (8, 8))\n",
    "im1 = im1[:,:,0]\n",
    "im1 = im1.reshape(-1).reshape(1, -1)\n",
    "\n",
    "Xtrain = np.append(Xtrain, im1,0)\n",
    "\n",
    "im = imageio.imread('C:\\\\Users\\\\student\\\\Pictures\\\\two1.png')\n",
    "im1 = resize(im, (8, 8))\n",
    "im1 = im1[:,:,0]\n",
    "im1 = im1.reshape(-1).reshape(1, -1)\n",
    "\n",
    "Xtrain = np.append(Xtrain, im1,0)\n",
    "\n",
    "im = imageio.imread('C:\\\\Users\\\\student\\\\Pictures\\\\two2.png')\n",
    "im1 = resize(im, (8, 8))\n",
    "im1 = im1[:,:,0]\n",
    "im1 = im1.reshape(-1).reshape(1, -1)\n",
    "\n",
    "Xtrain = np.append(Xtrain, im1,0)\n",
    "\n",
    "im = imageio.imread('C:\\\\Users\\\\student\\\\Pictures\\\\two3.png')\n",
    "im1 = resize(im, (8, 8))\n",
    "im1 = im1[:,:,0]\n",
    "im1 = im1.reshape(-1).reshape(1, -1)\n",
    "\n",
    "Xtrain = np.append(Xtrain, im1,0)\n",
    "\n",
    "im = imageio.imread('C:\\\\Users\\\\student\\\\Pictures\\\\two4.png')\n",
    "im1 = resize(im, (8, 8))\n",
    "im1 = im1[:,:,0]\n",
    "im1 = im1.reshape(-1).reshape(1, -1)\n",
    "\n",
    "Xtrain = np.append(Xtrain, im1,0)\n",
    "\n",
    "im = imageio.imread('C:\\\\Users\\\\student\\\\Pictures\\\\two5.png')\n",
    "im1 = resize(im, (8, 8))\n",
    "im1 = im1[:,:,0]\n",
    "im1 = im1.reshape(-1).reshape(1, -1)\n",
    "\n",
    "Xtrain = np.append(Xtrain, im1,0)\n",
    "\n",
    "im = imageio.imread('C:\\\\Users\\\\student\\\\Pictures\\\\three1.png')\n",
    "im1 = resize(im, (8, 8))\n",
    "im1 = im1[:,:,0]\n",
    "im1 = im1.reshape(-1).reshape(1, -1)\n",
    "\n",
    "Xtrain = np.append(Xtrain, im1,0)\n",
    "\n",
    "im = imageio.imread('C:\\\\Users\\\\student\\\\Pictures\\\\three2.png')\n",
    "im1 = resize(im, (8, 8))\n",
    "im1 = im1[:,:,0]\n",
    "im1 = im1.reshape(-1).reshape(1, -1)\n",
    "\n",
    "Xtrain = np.append(Xtrain, im1,0)\n",
    "\n",
    "im = imageio.imread('C:\\\\Users\\\\student\\\\Pictures\\\\three3.png')\n",
    "im1 = resize(im, (8, 8))\n",
    "im1 = im1[:,:,0]\n",
    "im1 = im1.reshape(-1).reshape(1, -1)\n",
    "\n",
    "Xtrain = np.append(Xtrain, im1,0)\n",
    "\n",
    "im = imageio.imread('C:\\\\Users\\\\student\\\\Pictures\\\\three4.png')\n",
    "im1 = resize(im, (8, 8))\n",
    "im1 = im1[:,:,0]\n",
    "im1 = im1.reshape(-1).reshape(1, -1)\n",
    "\n",
    "Xtrain = np.append(Xtrain, im1,0)\n",
    "\n",
    "im = imageio.imread('C:\\\\Users\\\\student\\\\Pictures\\\\three5.png')\n",
    "im1 = resize(im, (8, 8))\n",
    "im1 = im1[:,:,0]\n",
    "im1 = im1.reshape(-1).reshape(1, -1)\n",
    "\n",
    "Xtrain = np.append(Xtrain, im1,0)\n",
    "\n",
    "im = imageio.imread('C:\\\\Users\\\\student\\\\Pictures\\\\four1.png')\n",
    "im1 = resize(im, (8, 8))\n",
    "im1 = im1[:,:,0]\n",
    "im1 = im1.reshape(-1).reshape(1, -1)\n",
    "\n",
    "Xtrain = np.append(Xtrain, im1,0)\n",
    "\n",
    "im = imageio.imread('C:\\\\Users\\\\student\\\\Pictures\\\\four2.png')\n",
    "im1 = resize(im, (8, 8))\n",
    "im1 = im1[:,:,0]\n",
    "im1 = im1.reshape(-1).reshape(1, -1)\n",
    "\n",
    "Xtrain = np.append(Xtrain, im1,0)\n",
    "\n",
    "im = imageio.imread('C:\\\\Users\\\\student\\\\Pictures\\\\four3.png')\n",
    "im1 = resize(im, (8, 8))\n",
    "im1 = im1[:,:,0]\n",
    "im1 = im1.reshape(-1).reshape(1, -1)\n",
    "\n",
    "Xtrain = np.append(Xtrain, im1,0)\n",
    "\n",
    "im = imageio.imread('C:\\\\Users\\\\student\\\\Pictures\\\\four4.png')\n",
    "im1 = resize(im, (8, 8))\n",
    "im1 = im1[:,:,0]\n",
    "im1 = im1.reshape(-1).reshape(1, -1)\n",
    "\n",
    "Xtrain = np.append(Xtrain, im1,0)\n",
    "\n",
    "im = imageio.imread('C:\\\\Users\\\\student\\\\Pictures\\\\four5.png')\n",
    "im1 = resize(im, (8, 8))\n",
    "im1 = im1[:,:,0]\n",
    "im1 = im1.reshape(-1).reshape(1, -1)\n",
    "\n",
    "Xtrain = np.append(Xtrain, im1,0)\n",
    "\n",
    "im = imageio.imread('C:\\\\Users\\\\student\\\\Pictures\\\\five1.png')\n",
    "im1 = resize(im, (8, 8))\n",
    "im1 = im1[:,:,0]\n",
    "im1 = im1.reshape(-1).reshape(1, -1)\n",
    "\n",
    "Xtrain = np.append(Xtrain, im1,0)\n",
    "\n",
    "im = imageio.imread('C:\\\\Users\\\\student\\\\Pictures\\\\five2.png')\n",
    "im1 = resize(im, (8, 8))\n",
    "im1 = im1[:,:,0]\n",
    "im1 = im1.reshape(-1).reshape(1, -1)\n",
    "\n",
    "Xtrain = np.append(Xtrain, im1,0)\n",
    "\n",
    "im = imageio.imread('C:\\\\Users\\\\student\\\\Pictures\\\\five3.png')\n",
    "im1 = resize(im, (8, 8))\n",
    "im1 = im1[:,:,0]\n",
    "im1 = im1.reshape(-1).reshape(1, -1)\n",
    "\n",
    "Xtrain = np.append(Xtrain, im1,0)\n",
    "\n",
    "im = imageio.imread('C:\\\\Users\\\\student\\\\Pictures\\\\five4.png')\n",
    "im1 = resize(im, (8, 8))\n",
    "im1 = im1[:,:,0]\n",
    "im1 = im1.reshape(-1).reshape(1, -1)\n",
    "\n",
    "Xtrain = np.append(Xtrain, im1,0)\n",
    "\n",
    "im = imageio.imread('C:\\\\Users\\\\student\\\\Pictures\\\\five5.png')\n",
    "im1 = resize(im, (8, 8))\n",
    "im1 = im1[:,:,0]\n",
    "im1 = im1.reshape(-1).reshape(1, -1)\n",
    "\n",
    "Xtrain = np.append(Xtrain, im1,0)\n",
    "\n",
    "im = imageio.imread('C:\\\\Users\\\\student\\\\Pictures\\\\six1.png')\n",
    "im1 = resize(im, (8, 8))\n",
    "im1 = im1[:,:,0]\n",
    "im1 = im1.reshape(-1).reshape(1, -1)\n",
    "\n",
    "Xtrain = np.append(Xtrain, im1,0)\n",
    "\n",
    "im = imageio.imread('C:\\\\Users\\\\student\\\\Pictures\\\\six2.png')\n",
    "im1 = resize(im, (8, 8))\n",
    "im1 = im1[:,:,0]\n",
    "im1 = im1.reshape(-1).reshape(1, -1)\n",
    "\n",
    "Xtrain = np.append(Xtrain, im1,0)\n",
    "\n",
    "im = imageio.imread('C:\\\\Users\\\\student\\\\Pictures\\\\six3.png')\n",
    "im1 = resize(im, (8, 8))\n",
    "im1 = im1[:,:,0]\n",
    "im1 = im1.reshape(-1).reshape(1, -1)\n",
    "\n",
    "Xtrain = np.append(Xtrain, im1,0)\n",
    "\n",
    "im = imageio.imread('C:\\\\Users\\\\student\\\\Pictures\\\\six4.png')\n",
    "im1 = resize(im, (8, 8))\n",
    "im1 = im1[:,:,0]\n",
    "im1 = im1.reshape(-1).reshape(1, -1)\n",
    "\n",
    "Xtrain = np.append(Xtrain, im1,0)\n",
    "\n",
    "im = imageio.imread('C:\\\\Users\\\\student\\\\Pictures\\\\six5.png')\n",
    "im1 = resize(im, (8, 8))\n",
    "im1 = im1[:,:,0]\n",
    "im1 = im1.reshape(-1).reshape(1, -1)\n",
    "\n",
    "Xtrain = np.append(Xtrain, im1,0)\n",
    "\n",
    "im = imageio.imread('C:\\\\Users\\\\student\\\\Pictures\\\\seven1.png')\n",
    "im1 = resize(im, (8, 8))\n",
    "im1 = im1[:,:,0]\n",
    "im1 = im1.reshape(-1).reshape(1, -1)\n",
    "\n",
    "Xtrain = np.append(Xtrain, im1,0)\n",
    "\n",
    "im = imageio.imread('C:\\\\Users\\\\student\\\\Pictures\\\\seven2.png')\n",
    "im1 = resize(im, (8, 8))\n",
    "im1 = im1[:,:,0]\n",
    "im1 = im1.reshape(-1).reshape(1, -1)\n",
    "\n",
    "Xtrain = np.append(Xtrain, im1,0)\n",
    "\n",
    "im = imageio.imread('C:\\\\Users\\\\student\\\\Pictures\\\\seven3.png')\n",
    "im1 = resize(im, (8, 8))\n",
    "im1 = im1[:,:,0]\n",
    "im1 = im1.reshape(-1).reshape(1, -1)\n",
    "\n",
    "Xtrain = np.append(Xtrain, im1,0)\n",
    "\n",
    "im = imageio.imread('C:\\\\Users\\\\student\\\\Pictures\\\\seven4.png')\n",
    "im1 = resize(im, (8, 8))\n",
    "im1 = im1[:,:,0]\n",
    "im1 = im1.reshape(-1).reshape(1, -1)\n",
    "\n",
    "Xtrain = np.append(Xtrain, im1,0)\n",
    "\n",
    "im = imageio.imread('C:\\\\Users\\\\student\\\\Pictures\\\\seven5.png')\n",
    "im1 = resize(im, (8, 8))\n",
    "im1 = im1[:,:,0]\n",
    "im1 = im1.reshape(-1).reshape(1, -1)\n",
    "\n",
    "Xtrain = np.append(Xtrain, im1,0)\n",
    "\n",
    "im = imageio.imread('C:\\\\Users\\\\student\\\\Pictures\\\\eight1.png')\n",
    "im1 = resize(im, (8, 8))\n",
    "im1 = im1[:,:,0]\n",
    "im1 = im1.reshape(-1).reshape(1, -1)\n",
    "\n",
    "Xtrain = np.append(Xtrain, im1,0)\n",
    "\n",
    "im = imageio.imread('C:\\\\Users\\\\student\\\\Pictures\\\\eight2.png')\n",
    "im1 = resize(im, (8, 8))\n",
    "im1 = im1[:,:,0]\n",
    "im1 = im1.reshape(-1).reshape(1, -1)\n",
    "\n",
    "Xtrain = np.append(Xtrain, im1,0)\n",
    "\n",
    "im = imageio.imread('C:\\\\Users\\\\student\\\\Pictures\\\\eight3.png')\n",
    "im1 = resize(im, (8, 8))\n",
    "im1 = im1[:,:,0]\n",
    "im1 = im1.reshape(-1).reshape(1, -1)\n",
    "\n",
    "Xtrain = np.append(Xtrain, im1,0)\n",
    "\n",
    "im = imageio.imread('C:\\\\Users\\\\student\\\\Pictures\\\\eight4.png')\n",
    "im1 = resize(im, (8, 8))\n",
    "im1 = im1[:,:,0]\n",
    "im1 = im1.reshape(-1).reshape(1, -1)\n",
    "\n",
    "Xtrain = np.append(Xtrain, im1,0)\n",
    "\n",
    "im = imageio.imread('C:\\\\Users\\\\student\\\\Pictures\\\\eight5].png')\n",
    "im1 = resize(im, (8, 8))\n",
    "im1 = im1[:,:,0]\n",
    "im1 = im1.reshape(-1).reshape(1, -1)\n",
    "\n",
    "Xtrain = np.append(Xtrain, im1,0)\n",
    "\n",
    "im = imageio.imread('C:\\\\Users\\\\student\\\\Pictures\\\\nine1.png')\n",
    "im1 = resize(im, (8, 8))\n",
    "im1 = im1[:,:,0]\n",
    "im1 = im1.reshape(-1).reshape(1, -1)\n",
    "\n",
    "Xtrain = np.append(Xtrain, im1,0)\n",
    "\n",
    "im = imageio.imread('C:\\\\Users\\\\student\\\\Pictures\\\\nine2.png')\n",
    "im1 = resize(im, (8, 8))\n",
    "im1 = im1[:,:,0]\n",
    "im1 = im1.reshape(-1).reshape(1, -1)\n",
    "\n",
    "Xtrain = np.append(Xtrain, im1,0)\n",
    "\n",
    "im = imageio.imread('C:\\\\Users\\\\student\\\\Pictures\\\\nine3.png')\n",
    "im1 = resize(im, (8, 8))\n",
    "im1 = im1[:,:,0]\n",
    "im1 = im1.reshape(-1).reshape(1, -1)\n",
    "\n",
    "Xtrain = np.append(Xtrain, im1,0)\n",
    "\n",
    "im = imageio.imread('C:\\\\Users\\\\student\\\\Pictures\\\\nine4.png')\n",
    "im1 = resize(im, (8, 8))\n",
    "im1 = im1[:,:,0]\n",
    "im1 = im1.reshape(-1).reshape(1, -1)\n",
    "\n",
    "Xtrain = np.append(Xtrain, im1,0)\n",
    "\n",
    "im = imageio.imread('C:\\\\Users\\\\student\\\\Pictures\\\\nine5.png')\n",
    "im1 = resize(im, (8, 8))\n",
    "im1 = im1[:,:,0]\n",
    "im1 = im1.reshape(-1).reshape(1, -1)\n",
    "\n",
    "Xtrain = np.append(Xtrain, im1,0)\n",
    "\n",
    "im = imageio.imread('C:\\\\Users\\\\student\\\\Pictures\\\\numbers\\\\0.png')\n",
    "im1 = resize(im, (8, 8))\n",
    "im1 = im1[:,:,0]\n",
    "im1 = im1.reshape(-1).reshape(1, -1)\n",
    "\n",
    "Xtrain = np.append(Xtrain, im1,0)\n",
    "\n",
    "im = imageio.imread('C:\\\\Users\\\\student\\\\Pictures\\\\numbers\\\\0-1.png')\n",
    "im1 = resize(im, (8, 8))\n",
    "im1 = im1[:,:,0]\n",
    "im1 = im1.reshape(-1).reshape(1, -1)\n",
    "\n",
    "Xtrain = np.append(Xtrain, im1,0)\n",
    "\n",
    "im = imageio.imread('C:\\\\Users\\\\student\\\\Pictures\\\\numbers\\\\0-2.png')\n",
    "im1 = resize(im, (8, 8))\n",
    "im1 = im1[:,:,0]\n",
    "im1 = im1.reshape(-1).reshape(1, -1)\n",
    "\n",
    "Xtrain = np.append(Xtrain, im1,0)\n",
    "\n",
    "im = imageio.imread('C:\\\\Users\\\\student\\\\Pictures\\\\numbers\\\\1.png')\n",
    "im1 = resize(im, (8, 8))\n",
    "im1 = im1[:,:,0]\n",
    "im1 = im1.reshape(-1).reshape(1, -1)\n",
    "\n",
    "Xtrain = np.append(Xtrain, im1,0)\n",
    "\n",
    "im = imageio.imread('C:\\\\Users\\\\student\\\\Pictures\\\\numbers\\\\1-1.png')\n",
    "im1 = resize(im, (8, 8))\n",
    "im1 = im1[:,:,0]\n",
    "im1 = im1.reshape(-1).reshape(1, -1)\n",
    "\n",
    "Xtrain = np.append(Xtrain, im1,0)\n",
    "\n",
    "im = imageio.imread('C:\\\\Users\\\\student\\\\Pictures\\\\numbers\\\\1-2.png')\n",
    "im1 = resize(im, (8, 8))\n",
    "im1 = im1[:,:,0]\n",
    "im1 = im1.reshape(-1).reshape(1, -1)\n",
    "\n",
    "Xtrain = np.append(Xtrain, im1,0)\n",
    "\n",
    "im = imageio.imread('C:\\\\Users\\\\student\\\\Pictures\\\\numbers\\\\2.png')\n",
    "im1 = resize(im, (8, 8))\n",
    "im1 = im1[:,:,0]\n",
    "im1 = im1.reshape(-1).reshape(1, -1)\n",
    "\n",
    "Xtrain = np.append(Xtrain, im1,0)\n",
    "\n",
    "im = imageio.imread('C:\\\\Users\\\\student\\\\Pictures\\\\numbers\\\\2-1.png')\n",
    "im1 = resize(im, (8, 8))\n",
    "im1 = im1[:,:,0]\n",
    "im1 = im1.reshape(-1).reshape(1, -1)\n",
    "\n",
    "Xtrain = np.append(Xtrain, im1,0)\n",
    "\n",
    "im = imageio.imread('C:\\\\Users\\\\student\\\\Pictures\\\\numbers\\\\2-2.png')\n",
    "im1 = resize(im, (8, 8))\n",
    "im1 = im1[:,:,0]\n",
    "im1 = im1.reshape(-1).reshape(1, -1)\n",
    "\n",
    "Xtrain = np.append(Xtrain, im1,0)\n",
    "\n",
    "im = imageio.imread('C:\\\\Users\\\\student\\\\Pictures\\\\numbers\\\\3.png')\n",
    "im1 = resize(im, (8, 8))\n",
    "im1 = im1[:,:,0]\n",
    "im1 = im1.reshape(-1).reshape(1, -1)\n",
    "\n",
    "Xtrain = np.append(Xtrain, im1,0)\n",
    "\n",
    "im = imageio.imread('C:\\\\Users\\\\student\\\\Pictures\\\\numbers\\\\3-1.png')\n",
    "im1 = resize(im, (8, 8))\n",
    "im1 = im1[:,:,0]\n",
    "im1 = im1.reshape(-1).reshape(1, -1)\n",
    "\n",
    "Xtrain = np.append(Xtrain, im1,0)\n",
    "\n",
    "im = imageio.imread('C:\\\\Users\\\\student\\\\Pictures\\\\numbers\\\\3-2.png')\n",
    "im1 = resize(im, (8, 8))\n",
    "im1 = im1[:,:,0]\n",
    "im1 = im1.reshape(-1).reshape(1, -1)\n",
    "\n",
    "Xtrain = np.append(Xtrain, im1,0)\n",
    "\n",
    "im = imageio.imread('C:\\\\Users\\\\student\\\\Pictures\\\\numbers\\\\4.png')\n",
    "im1 = resize(im, (8, 8))\n",
    "im1 = im1[:,:,0]\n",
    "im1 = im1.reshape(-1).reshape(1, -1)\n",
    "\n",
    "Xtrain = np.append(Xtrain, im1,0)\n",
    "\n",
    "im = imageio.imread('C:\\\\Users\\\\student\\\\Pictures\\\\numbers\\\\4-1.png')\n",
    "im1 = resize(im, (8, 8))\n",
    "im1 = im1[:,:,0]\n",
    "im1 = im1.reshape(-1).reshape(1, -1)\n",
    "\n",
    "Xtrain = np.append(Xtrain, im1,0)\n",
    "\n",
    "im = imageio.imread('C:\\\\Users\\\\student\\\\Pictures\\\\numbers\\\\4-2.png')\n",
    "im1 = resize(im, (8, 8))\n",
    "im1 = im1[:,:,0]\n",
    "im1 = im1.reshape(-1).reshape(1, -1)\n",
    "\n",
    "Xtrain = np.append(Xtrain, im1,0)\n",
    "\n",
    "im = imageio.imread('C:\\\\Users\\\\student\\\\Pictures\\\\numbers\\\\5.png')\n",
    "im1 = resize(im, (8, 8))\n",
    "im1 = im1[:,:,0]\n",
    "im1 = im1.reshape(-1).reshape(1, -1)\n",
    "\n",
    "Xtrain = np.append(Xtrain, im1,0)\n",
    "\n",
    "im = imageio.imread('C:\\\\Users\\\\student\\\\Pictures\\\\numbers\\\\5-1.png')\n",
    "im1 = resize(im, (8, 8))\n",
    "im1 = im1[:,:,0]\n",
    "im1 = im1.reshape(-1).reshape(1, -1)\n",
    "\n",
    "Xtrain = np.append(Xtrain, im1,0)\n",
    "\n",
    "im = imageio.imread('C:\\\\Users\\\\student\\\\Pictures\\\\numbers\\\\5-2.png')\n",
    "im1 = resize(im, (8, 8))\n",
    "im1 = im1[:,:,0]\n",
    "im1 = im1.reshape(-1).reshape(1, -1)\n",
    "\n",
    "Xtrain = np.append(Xtrain, im1,0)\n",
    "\n",
    "im = imageio.imread('C:\\\\Users\\\\student\\\\Pictures\\\\numbers\\\\6.png')\n",
    "im1 = resize(im, (8, 8))\n",
    "im1 = im1[:,:,0]\n",
    "im1 = im1.reshape(-1).reshape(1, -1)\n",
    "\n",
    "Xtrain = np.append(Xtrain, im1,0)\n",
    "\n",
    "im = imageio.imread('C:\\\\Users\\\\student\\\\Pictures\\\\numbers\\\\6-1.png')\n",
    "im1 = resize(im, (8, 8))\n",
    "im1 = im1[:,:,0]\n",
    "im1 = im1.reshape(-1).reshape(1, -1)\n",
    "\n",
    "Xtrain = np.append(Xtrain, im1,0)\n",
    "\n",
    "im = imageio.imread('C:\\\\Users\\\\student\\\\Pictures\\\\numbers\\\\6-2.png')\n",
    "im1 = resize(im, (8, 8))\n",
    "im1 = im1[:,:,0]\n",
    "im1 = im1.reshape(-1).reshape(1, -1)\n",
    "\n",
    "Xtrain = np.append(Xtrain, im1,0)\n",
    "\n",
    "im = imageio.imread('C:\\\\Users\\\\student\\\\Pictures\\\\numbers\\\\7.png')\n",
    "im1 = resize(im, (8, 8))\n",
    "im1 = im1[:,:,0]\n",
    "im1 = im1.reshape(-1).reshape(1, -1)\n",
    "\n",
    "Xtrain = np.append(Xtrain, im1,0)\n",
    "\n",
    "im = imageio.imread('C:\\\\Users\\\\student\\\\Pictures\\\\numbers\\\\7-1.png')\n",
    "im1 = resize(im, (8, 8))\n",
    "im1 = im1[:,:,0]\n",
    "im1 = im1.reshape(-1).reshape(1, -1)\n",
    "\n",
    "Xtrain = np.append(Xtrain, im1,0)\n",
    "\n",
    "im = imageio.imread('C:\\\\Users\\\\student\\\\Pictures\\\\numbers\\\\7-2.png')\n",
    "im1 = resize(im, (8, 8))\n",
    "im1 = im1[:,:,0]\n",
    "im1 = im1.reshape(-1).reshape(1, -1)\n",
    "\n",
    "Xtrain = np.append(Xtrain, im1,0)\n",
    "\n",
    "im = imageio.imread('C:\\\\Users\\\\student\\\\Pictures\\\\numbers\\\\8.png')\n",
    "im1 = resize(im, (8, 8))\n",
    "im1 = im1[:,:,0]\n",
    "im1 = im1.reshape(-1).reshape(1, -1)\n",
    "\n",
    "Xtrain = np.append(Xtrain, im1,0)\n",
    "\n",
    "im = imageio.imread('C:\\\\Users\\\\student\\\\Pictures\\\\numbers\\\\8-1.png')\n",
    "im1 = resize(im, (8, 8))\n",
    "im1 = im1[:,:,0]\n",
    "im1 = im1.reshape(-1).reshape(1, -1)\n",
    "\n",
    "Xtrain = np.append(Xtrain, im1,0)\n",
    "\n",
    "im = imageio.imread('C:\\\\Users\\\\student\\\\Pictures\\\\numbers\\\\8-2.png')\n",
    "im1 = resize(im, (8, 8))\n",
    "im1 = im1[:,:,0]\n",
    "im1 = im1.reshape(-1).reshape(1, -1)\n",
    "\n",
    "Xtrain = np.append(Xtrain, im1,0)\n",
    "\n",
    "im = imageio.imread('C:\\\\Users\\\\student\\\\Pictures\\\\numbers\\\\9.png')\n",
    "im1 = resize(im, (8, 8))\n",
    "im1 = im1[:,:,0]\n",
    "im1 = im1.reshape(-1).reshape(1, -1)\n",
    "\n",
    "Xtrain = np.append(Xtrain, im1,0)\n",
    "\n",
    "im = imageio.imread('C:\\\\Users\\\\student\\\\Pictures\\\\numbers\\\\9-1.png')\n",
    "im1 = resize(im, (8, 8))\n",
    "im1 = im1[:,:,0]\n",
    "im1 = im1.reshape(-1).reshape(1, -1)\n",
    "\n",
    "Xtrain = np.append(Xtrain, im1,0)\n",
    "\n",
    "im = imageio.imread('C:\\\\Users\\\\student\\\\Pictures\\\\numbers\\\\9-2.png')\n",
    "im1 = resize(im, (8, 8))\n",
    "im1 = im1[:,:,0]\n",
    "im1 = im1.reshape(-1).reshape(1, -1)\n",
    "\n",
    "Xtrain = np.append(Xtrain, im1,0)\n",
    "\n",
    "im = imageio.imread('C:\\\\Users\\\\student\\\\Pictures\\\\numbers\\\\1-3.png')\n",
    "im1 = resize(im, (8, 8))\n",
    "im1 = im1[:,:,0]\n",
    "im1 = im1.reshape(-1).reshape(1, -1)\n",
    "\n",
    "Xtrain = np.append(Xtrain, im1,0)\n",
    "\n",
    "im = imageio.imread('C:\\\\Users\\\\student\\\\Pictures\\\\numbers\\\\1-4.png')\n",
    "im1 = resize(im, (8, 8))\n",
    "im1 = im1[:,:,0]\n",
    "im1 = im1.reshape(-1).reshape(1, -1)\n",
    "\n",
    "Xtrain = np.append(Xtrain, im1,0)\n",
    "\n",
    "im = imageio.imread('C:\\\\Users\\\\student\\\\Pictures\\\\numbers\\\\2-3.png')\n",
    "im1 = resize(im, (8, 8))\n",
    "im1 = im1[:,:,0]\n",
    "im1 = im1.reshape(-1).reshape(1, -1)\n",
    "\n",
    "Xtrain = np.append(Xtrain, im1,0)\n",
    "\n",
    "im = imageio.imread('C:\\\\Users\\\\student\\\\Pictures\\\\numbers\\\\2-4.png')\n",
    "im1 = resize(im, (8, 8))\n",
    "im1 = im1[:,:,0]\n",
    "im1 = im1.reshape(-1).reshape(1, -1)\n",
    "\n",
    "Xtrain = np.append(Xtrain, im1,0)\n",
    "\n",
    "im = imageio.imread('C:\\\\Users\\\\student\\\\Pictures\\\\numbers\\\\3-3.png')\n",
    "im1 = resize(im, (8, 8))\n",
    "im1 = im1[:,:,0]\n",
    "im1 = im1.reshape(-1).reshape(1, -1)\n",
    "\n",
    "Xtrain = np.append(Xtrain, im1,0)\n",
    "\n",
    "im = imageio.imread('C:\\\\Users\\\\student\\\\Pictures\\\\numbers\\\\3-4.png')\n",
    "im1 = resize(im, (8, 8))\n",
    "im1 = im1[:,:,0]\n",
    "im1 = im1.reshape(-1).reshape(1, -1)\n",
    "\n",
    "Xtrain = np.append(Xtrain, im1,0)\n",
    "\n",
    "im = imageio.imread('C:\\\\Users\\\\student\\\\Pictures\\\\numbers\\\\4-3.png')\n",
    "im1 = resize(im, (8, 8))\n",
    "im1 = im1[:,:,0]\n",
    "im1 = im1.reshape(-1).reshape(1, -1)\n",
    "\n",
    "Xtrain = np.append(Xtrain, im1,0)\n",
    "\n",
    "im = imageio.imread('C:\\\\Users\\\\student\\\\Pictures\\\\numbers\\\\5-3.png')\n",
    "im1 = resize(im, (8, 8))\n",
    "im1 = im1[:,:,0]\n",
    "im1 = im1.reshape(-1).reshape(1, -1)\n",
    "\n",
    "Xtrain = np.append(Xtrain, im1,0)\n",
    "\n",
    "im = imageio.imread('C:\\\\Users\\\\student\\\\Pictures\\\\numbers\\\\5-4.png')\n",
    "im1 = resize(im, (8, 8))\n",
    "im1 = im1[:,:,0]\n",
    "im1 = im1.reshape(-1).reshape(1, -1)\n",
    "\n",
    "Xtrain = np.append(Xtrain, im1,0)\n",
    "\n",
    "im = imageio.imread('C:\\\\Users\\\\student\\\\Pictures\\\\numbers\\\\6-3.png')\n",
    "im1 = resize(im, (8, 8))\n",
    "im1 = im1[:,:,0]\n",
    "im1 = im1.reshape(-1).reshape(1, -1)\n",
    "\n",
    "Xtrain = np.append(Xtrain, im1,0)\n",
    "\n",
    "im = imageio.imread('C:\\\\Users\\\\student\\\\Pictures\\\\numbers\\\\6-4.png')\n",
    "im1 = resize(im, (8, 8))\n",
    "im1 = im1[:,:,0]\n",
    "im1 = im1.reshape(-1).reshape(1, -1)\n",
    "\n",
    "Xtrain = np.append(Xtrain, im1,0)\n",
    "\n",
    "im = imageio.imread('C:\\\\Users\\\\student\\\\Pictures\\\\numbers\\\\7-3.png')\n",
    "im1 = resize(im, (8, 8))\n",
    "im1 = im1[:,:,0]\n",
    "im1 = im1.reshape(-1).reshape(1, -1)\n",
    "\n",
    "Xtrain = np.append(Xtrain, im1,0)\n",
    "\n",
    "im = imageio.imread('C:\\\\Users\\\\student\\\\Pictures\\\\numbers\\\\7-4.png')\n",
    "im1 = resize(im, (8, 8))\n",
    "im1 = im1[:,:,0]\n",
    "im1 = im1.reshape(-1).reshape(1, -1)\n",
    "\n",
    "Xtrain = np.append(Xtrain, im1,0)\n",
    "\n",
    "im = imageio.imread('C:\\\\Users\\\\student\\\\Pictures\\\\numbers\\\\8-3.png')\n",
    "im1 = resize(im, (8, 8))\n",
    "im1 = im1[:,:,0]\n",
    "im1 = im1.reshape(-1).reshape(1, -1)\n",
    "\n",
    "Xtrain = np.append(Xtrain, im1,0)\n",
    "\n",
    "im = imageio.imread('C:\\\\Users\\\\student\\\\Pictures\\\\numbers\\\\8-4.png')\n",
    "im1 = resize(im, (8, 8))\n",
    "im1 = im1[:,:,0]\n",
    "im1 = im1.reshape(-1).reshape(1, -1)\n",
    "\n",
    "Xtrain = np.append(Xtrain, im1,0)\n",
    "ytrain=np.array([1,2,3,4,5,6,7,8,9,0,0,0,0,0,0,1,1,1,1,1,2,2,2,2,2,3,3,3,3,3,4,4,4,4,4,5,5,5,5,5,6,6,6,6,6,7,7,7,7,7,8,8,8,8,8,9,9,9,9,9,0,0,0,1,1,1,2,2,2,3,3,3,4,4,4,5,5,5,6,6,6,7,7,7,8,8,8,9,9,9,1,1,2,2,3,3,4,5,5,6,6,7,7,8,8])"
   ]
  },
  {
   "cell_type": "code",
   "execution_count": 145,
   "metadata": {},
   "outputs": [],
   "source": [
    "# Testing data\n",
    "im = imageio.imread('C:\\\\Users\\\\student\\\\Pictures\\\\zero6.png')\n",
    "im1 = resize(im, (8, 8))\n",
    "im1 = im1[:,:,0]\n",
    "im1 = im1.reshape(-1).reshape(1, -1)\n",
    "Xtest = im1\n",
    "\n",
    "im = imageio.imread('C:\\\\Users\\\\student\\\\Pictures\\\\zero7.png')\n",
    "im1 = resize(im, (8, 8))\n",
    "im1 = im1[:,:,0]\n",
    "im1 = im1.reshape(-1).reshape(1, -1)\n",
    "Xtest = np.append(Xtest, im1,0)\n",
    "\n",
    "im = imageio.imread('C:\\\\Users\\\\student\\\\Pictures\\\\zero8.png')\n",
    "im1 = resize(im, (8, 8))\n",
    "im1 = im1[:,:,0]\n",
    "im1 = im1.reshape(-1).reshape(1, -1)\n",
    "Xtest = np.append(Xtest, im1,0)\n",
    "\n",
    "im = imageio.imread('C:\\\\Users\\\\student\\\\Pictures\\\\one6.png')\n",
    "im1 = resize(im, (8, 8))\n",
    "im1 = im1[:,:,0]\n",
    "im1 = im1.reshape(-1).reshape(1, -1)\n",
    "Xtest = np.append(Xtest, im1,0)\n",
    "\n",
    "im = imageio.imread('C:\\\\Users\\\\student\\\\Pictures\\\\one7.png')\n",
    "im1 = resize(im, (8, 8))\n",
    "im1 = im1[:,:,0]\n",
    "im1 = im1.reshape(-1).reshape(1, -1)\n",
    "Xtest = np.append(Xtest, im1,0)\n",
    "\n",
    "im = imageio.imread('C:\\\\Users\\\\student\\\\Pictures\\\\one8.png')\n",
    "im1 = resize(im, (8, 8))\n",
    "im1 = im1[:,:,0]\n",
    "im1 = im1.reshape(-1).reshape(1, -1)\n",
    "Xtest = np.append(Xtest, im1,0)\n",
    "\n",
    "im = imageio.imread('C:\\\\Users\\\\student\\\\Pictures\\\\two6.png')\n",
    "im1 = resize(im, (8, 8))\n",
    "im1 = im1[:,:,0]\n",
    "im1 = im1.reshape(-1).reshape(1, -1)\n",
    "Xtest = np.append(Xtest, im1,0)\n",
    "\n",
    "im = imageio.imread('C:\\\\Users\\\\student\\\\Pictures\\\\two7.png')\n",
    "im1 = resize(im, (8, 8))\n",
    "im1 = im1[:,:,0]\n",
    "im1 = im1.reshape(-1).reshape(1, -1)\n",
    "Xtest = np.append(Xtest, im1,0)\n",
    "\n",
    "im = imageio.imread('C:\\\\Users\\\\student\\\\Pictures\\\\two8.png')\n",
    "im1 = resize(im, (8, 8))\n",
    "im1 = im1[:,:,0]\n",
    "im1 = im1.reshape(-1).reshape(1, -1)\n",
    "Xtest = np.append(Xtest, im1,0)\n",
    "\n",
    "im = imageio.imread('C:\\\\Users\\\\student\\\\Pictures\\\\three6.png')\n",
    "im1 = resize(im, (8, 8))\n",
    "im1 = im1[:,:,0]\n",
    "im1 = im1.reshape(-1).reshape(1, -1)\n",
    "Xtest = np.append(Xtest, im1,0)\n",
    "\n",
    "im = imageio.imread('C:\\\\Users\\\\student\\\\Pictures\\\\three7.png')\n",
    "im1 = resize(im, (8, 8))\n",
    "im1 = im1[:,:,0]\n",
    "im1 = im1.reshape(-1).reshape(1, -1)\n",
    "Xtest = np.append(Xtest, im1,0)\n",
    "\n",
    "im = imageio.imread('C:\\\\Users\\\\student\\\\Pictures\\\\three8.png')\n",
    "im1 = resize(im, (8, 8))\n",
    "im1 = im1[:,:,0]\n",
    "im1 = im1.reshape(-1).reshape(1, -1)\n",
    "Xtest = np.append(Xtest, im1,0)\n",
    "\n",
    "im = imageio.imread('C:\\\\Users\\\\student\\\\Pictures\\\\four6.png')\n",
    "im1 = resize(im, (8, 8))\n",
    "im1 = im1[:,:,0]\n",
    "im1 = im1.reshape(-1).reshape(1, -1)\n",
    "Xtest = np.append(Xtest, im1,0)\n",
    "\n",
    "im = imageio.imread('C:\\\\Users\\\\student\\\\Pictures\\\\four7.png')\n",
    "im1 = resize(im, (8, 8))\n",
    "im1 = im1[:,:,0]\n",
    "im1 = im1.reshape(-1).reshape(1, -1)\n",
    "Xtest = np.append(Xtest, im1,0)\n",
    "\n",
    "im = imageio.imread('C:\\\\Users\\\\student\\\\Pictures\\\\four8.png')\n",
    "im1 = resize(im, (8, 8))\n",
    "im1 = im1[:,:,0]\n",
    "im1 = im1.reshape(-1).reshape(1, -1)\n",
    "Xtest = np.append(Xtest, im1,0)\n",
    "\n",
    "im = imageio.imread('C:\\\\Users\\\\student\\\\Pictures\\\\five6.png')\n",
    "im1 = resize(im, (8, 8))\n",
    "im1 = im1[:,:,0]\n",
    "im1 = im1.reshape(-1).reshape(1, -1)\n",
    "Xtest = np.append(Xtest, im1,0)\n",
    "\n",
    "im = imageio.imread('C:\\\\Users\\\\student\\\\Pictures\\\\five7.png')\n",
    "im1 = resize(im, (8, 8))\n",
    "im1 = im1[:,:,0]\n",
    "im1 = im1.reshape(-1).reshape(1, -1)\n",
    "Xtest = np.append(Xtest, im1,0)\n",
    "\n",
    "im = imageio.imread('C:\\\\Users\\\\student\\\\Pictures\\\\five8.png')\n",
    "im1 = resize(im, (8, 8))\n",
    "im1 = im1[:,:,0]\n",
    "im1 = im1.reshape(-1).reshape(1, -1)\n",
    "Xtest = np.append(Xtest, im1,0)\n",
    "\n",
    "im = imageio.imread('C:\\\\Users\\\\student\\\\Pictures\\\\six6.png')\n",
    "im1 = resize(im, (8, 8))\n",
    "im1 = im1[:,:,0]\n",
    "im1 = im1.reshape(-1).reshape(1, -1)\n",
    "Xtest = np.append(Xtest, im1,0)\n",
    "\n",
    "im = imageio.imread('C:\\\\Users\\\\student\\\\Pictures\\\\six7.png')\n",
    "im1 = resize(im, (8, 8))\n",
    "im1 = im1[:,:,0]\n",
    "im1 = im1.reshape(-1).reshape(1, -1)\n",
    "Xtest = np.append(Xtest, im1,0)\n",
    "\n",
    "im = imageio.imread('C:\\\\Users\\\\student\\\\Pictures\\\\six8.png')\n",
    "im1 = resize(im, (8, 8))\n",
    "im1 = im1[:,:,0]\n",
    "im1 = im1.reshape(-1).reshape(1, -1)\n",
    "Xtest = np.append(Xtest, im1,0)\n",
    "\n",
    "im = imageio.imread('C:\\\\Users\\\\student\\\\Pictures\\\\seven6.png')\n",
    "im1 = resize(im, (8, 8))\n",
    "im1 = im1[:,:,0]\n",
    "im1 = im1.reshape(-1).reshape(1, -1)\n",
    "Xtest = np.append(Xtest, im1,0)\n",
    "\n",
    "im = imageio.imread('C:\\\\Users\\\\student\\\\Pictures\\\\seven7.png')\n",
    "im1 = resize(im, (8, 8))\n",
    "im1 = im1[:,:,0]\n",
    "im1 = im1.reshape(-1).reshape(1, -1)\n",
    "Xtest = np.append(Xtest, im1,0)\n",
    "\n",
    "im = imageio.imread('C:\\\\Users\\\\student\\\\Pictures\\\\seven8.png')\n",
    "im1 = resize(im, (8, 8))\n",
    "im1 = im1[:,:,0]\n",
    "im1 = im1.reshape(-1).reshape(1, -1)\n",
    "Xtest = np.append(Xtest, im1,0)\n",
    "\n",
    "im = imageio.imread('C:\\\\Users\\\\student\\\\Pictures\\\\eight6.png')\n",
    "im1 = resize(im, (8, 8))\n",
    "im1 = im1[:,:,0]\n",
    "im1 = im1.reshape(-1).reshape(1, -1)\n",
    "Xtest = np.append(Xtest, im1,0)\n",
    "\n",
    "im = imageio.imread('C:\\\\Users\\\\student\\\\Pictures\\\\eight7.png')\n",
    "im1 = resize(im, (8, 8))\n",
    "im1 = im1[:,:,0]\n",
    "im1 = im1.reshape(-1).reshape(1, -1)\n",
    "Xtest = np.append(Xtest, im1,0)\n",
    "\n",
    "im = imageio.imread('C:\\\\Users\\\\student\\\\Pictures\\\\eight8.png')\n",
    "im1 = resize(im, (8, 8))\n",
    "im1 = im1[:,:,0]\n",
    "im1 = im1.reshape(-1).reshape(1, -1)\n",
    "Xtest = np.append(Xtest, im1,0)\n",
    "\n",
    "im = imageio.imread('C:\\\\Users\\\\student\\\\Pictures\\\\nine6.png')\n",
    "im1 = resize(im, (8, 8))\n",
    "im1 = im1[:,:,0]\n",
    "im1 = im1.reshape(-1).reshape(1, -1)\n",
    "Xtest = np.append(Xtest, im1,0)\n",
    "\n",
    "im = imageio.imread('C:\\\\Users\\\\student\\\\Pictures\\\\nine7.png')\n",
    "im1 = resize(im, (8, 8))\n",
    "im1 = im1[:,:,0]\n",
    "im1 = im1.reshape(-1).reshape(1, -1)\n",
    "Xtest = np.append(Xtest, im1,0)\n",
    "\n",
    "im = imageio.imread('C:\\\\Users\\\\student\\\\Pictures\\\\nine8.png')\n",
    "im1 = resize(im, (8, 8))\n",
    "im1 = im1[:,:,0]\n",
    "im1 = im1.reshape(-1).reshape(1, -1)\n",
    "Xtest = np.append(Xtest, im1,0)\n",
    "\n",
    "im = imageio.imread('C:\\\\Users\\\\student\\\\Pictures\\\\new0.png')\n",
    "im1 = resize(im, (8, 8))\n",
    "im1 = im1[:,:,0]\n",
    "im1 = im1.reshape(-1).reshape(1, -1)\n",
    "Xtest = np.append(Xtest, im1,0)\n",
    "\n",
    "im = imageio.imread('C:\\\\Users\\\\student\\\\Pictures\\\\new1.png')\n",
    "im1 = resize(im, (8, 8))\n",
    "im1 = im1[:,:,0]\n",
    "im1 = im1.reshape(-1).reshape(1, -1)\n",
    "Xtest = np.append(Xtest, im1,0)\n",
    "\n",
    "im = imageio.imread('C:\\\\Users\\\\student\\\\Pictures\\\\new2.png')\n",
    "im1 = resize(im, (8, 8))\n",
    "im1 = im1[:,:,0]\n",
    "im1 = im1.reshape(-1).reshape(1, -1)\n",
    "Xtest = np.append(Xtest, im1,0)\n",
    "\n",
    "im = imageio.imread('C:\\\\Users\\\\student\\\\Pictures\\\\new3.png')\n",
    "im1 = resize(im, (8, 8))\n",
    "im1 = im1[:,:,0]\n",
    "im1 = im1.reshape(-1).reshape(1, -1)\n",
    "Xtest = np.append(Xtest, im1,0)\n",
    "\n",
    "im = imageio.imread('C:\\\\Users\\\\student\\\\Pictures\\\\new4.png')\n",
    "im1 = resize(im, (8, 8))\n",
    "im1 = im1[:,:,0]\n",
    "im1 = im1.reshape(-1).reshape(1, -1)\n",
    "Xtest = np.append(Xtest, im1,0)\n",
    "\n",
    "im = imageio.imread('C:\\\\Users\\\\student\\\\Pictures\\\\new5.png')\n",
    "im1 = resize(im, (8, 8))\n",
    "im1 = im1[:,:,0]\n",
    "im1 = im1.reshape(-1).reshape(1, -1)\n",
    "Xtest = np.append(Xtest, im1,0)\n",
    "\n",
    "im = imageio.imread('C:\\\\Users\\\\student\\\\Pictures\\\\new6.png')\n",
    "im1 = resize(im, (8, 8))\n",
    "im1 = im1[:,:,0]\n",
    "im1 = im1.reshape(-1).reshape(1, -1)\n",
    "Xtest = np.append(Xtest, im1,0)\n",
    "\n",
    "im = imageio.imread('C:\\\\Users\\\\student\\\\Pictures\\\\new7.png')\n",
    "im1 = resize(im, (8, 8))\n",
    "im1 = im1[:,:,0]\n",
    "im1 = im1.reshape(-1).reshape(1, -1)\n",
    "Xtest = np.append(Xtest, im1,0)\n",
    "\n",
    "im = imageio.imread('C:\\\\Users\\\\student\\\\Pictures\\\\new8.png')\n",
    "im1 = resize(im, (8, 8))\n",
    "im1 = im1[:,:,0]\n",
    "im1 = im1.reshape(-1).reshape(1, -1)\n",
    "Xtest = np.append(Xtest, im1,0)\n",
    "\n",
    "im = imageio.imread('C:\\\\Users\\\\student\\\\Pictures\\\\new9.png')\n",
    "im1 = resize(im, (8, 8))\n",
    "im1 = im1[:,:,0]\n",
    "im1 = im1.reshape(-1).reshape(1, -1)\n",
    "Xtest = np.append(Xtest, im1,0)\n",
    "\n",
    "\n",
    "im = imageio.imread('C:\\\\Users\\\\student\\\\Pictures\\\\3.png')\n",
    "im1 = resize(im, (8, 8))\n",
    "im1 = im1[:,:,0]\n",
    "im1 = im1.reshape(-1).reshape(1, -1)\n",
    "Xtest = np.append(Xtest, im1,0)\n",
    "\n",
    "im = imageio.imread('C:\\\\Users\\\\student\\\\Pictures\\\\5.png')\n",
    "im1 = resize(im, (8, 8))\n",
    "im1 = im1[:,:,0]\n",
    "im1 = im1.reshape(-1).reshape(1, -1)\n",
    "Xtest = np.append(Xtest, im1,0)\n",
    "\n",
    "im = imageio.imread('C:\\\\Users\\\\student\\\\Pictures\\\\8.png')\n",
    "im1 = resize(im, (8, 8))\n",
    "im1 = im1[:,:,0]\n",
    "im1 = im1.reshape(-1).reshape(1, -1)\n",
    "Xtest = np.append(Xtest, im1,0)\n",
    "\n",
    "im = imageio.imread('C:\\\\Users\\\\student\\\\Pictures\\\\7.png')\n",
    "im1 = resize(im, (8, 8))\n",
    "im1 = im1[:,:,0]\n",
    "im1 = im1.reshape(-1).reshape(1, -1)\n",
    "Xtest = np.append(Xtest, im1,0)\n",
    "\n",
    "im = imageio.imread('C:\\\\Users\\\\student\\\\Pictures\\\\1.png')\n",
    "im1 = resize(im, (8, 8))\n",
    "im1 = im1[:,:,0]\n",
    "im1 = im1.reshape(-1).reshape(1, -1)\n",
    "Xtest = np.append(Xtest, im1,0)\n",
    "\n",
    "im = imageio.imread('C:\\\\Users\\\\student\\\\Pictures\\\\9.png')\n",
    "im1 = resize(im, (8, 8))\n",
    "im1 = im1[:,:,0]\n",
    "im1 = im1.reshape(-1).reshape(1, -1)\n",
    "Xtest = np.append(Xtest, im1,0)\n",
    "\n",
    "im = imageio.imread('C:\\\\Users\\\\student\\\\Pictures\\\\0.png')\n",
    "im1 = resize(im, (8, 8))\n",
    "im1 = im1[:,:,0]\n",
    "im1 = im1.reshape(-1).reshape(1, -1)\n",
    "Xtest = np.append(Xtest, im1,0)\n",
    "\n",
    "im = imageio.imread('C:\\\\Users\\\\student\\\\Pictures\\\\4.png')\n",
    "im1 = resize(im, (8, 8))\n",
    "im1 = im1[:,:,0]\n",
    "im1 = im1.reshape(-1).reshape(1, -1)\n",
    "Xtest = np.append(Xtest, im1,0)\n",
    "\n",
    "im = imageio.imread('C:\\\\Users\\\\student\\\\Pictures\\\\6.png')\n",
    "im1 = resize(im, (8, 8))\n",
    "im1 = im1[:,:,0]\n",
    "im1 = im1.reshape(-1).reshape(1, -1)\n",
    "Xtest = np.append(Xtest, im1,0)\n",
    "\n",
    "im = imageio.imread('C:\\\\Users\\\\student\\\\Pictures\\\\2.png')\n",
    "im1 = resize(im, (8, 8))\n",
    "im1 = im1[:,:,0]\n",
    "im1 = im1.reshape(-1).reshape(1, -1)\n",
    "Xtest = np.append(Xtest, im1,0)\n",
    "\n",
    "im = imageio.imread('C:\\\\Users\\\\student\\\\Pictures\\\\numbers\\\\1-5.png')\n",
    "im1 = resize(im, (8, 8))\n",
    "im1 = im1[:,:,0]\n",
    "im1 = im1.reshape(-1).reshape(1, -1)\n",
    "Xtest = np.append(Xtest, im1,0)\n",
    "\n",
    "im = imageio.imread('C:\\\\Users\\\\student\\\\Pictures\\\\numbers\\\\1-6.png')\n",
    "im1 = resize(im, (8, 8))\n",
    "im1 = im1[:,:,0]\n",
    "im1 = im1.reshape(-1).reshape(1, -1)\n",
    "Xtest = np.append(Xtest, im1,0)\n",
    "\n",
    "im = imageio.imread('C:\\\\Users\\\\student\\\\Pictures\\\\numbers\\\\2-5.png')\n",
    "im1 = resize(im, (8, 8))\n",
    "im1 = im1[:,:,0]\n",
    "im1 = im1.reshape(-1).reshape(1, -1)\n",
    "Xtest = np.append(Xtest, im1,0)\n",
    "\n",
    "im = imageio.imread('C:\\\\Users\\\\student\\\\Pictures\\\\numbers\\\\2-6.png')\n",
    "im1 = resize(im, (8, 8))\n",
    "im1 = im1[:,:,0]\n",
    "im1 = im1.reshape(-1).reshape(1, -1)\n",
    "Xtest = np.append(Xtest, im1,0)\n",
    "\n",
    "im = imageio.imread('C:\\\\Users\\\\student\\\\Pictures\\\\numbers\\\\3-5.png')\n",
    "im1 = resize(im, (8, 8))\n",
    "im1 = im1[:,:,0]\n",
    "im1 = im1.reshape(-1).reshape(1, -1)\n",
    "Xtest = np.append(Xtest, im1,0)\n",
    "\n",
    "im = imageio.imread('C:\\\\Users\\\\student\\\\Pictures\\\\numbers\\\\3-6.png')\n",
    "im1 = resize(im, (8, 8))\n",
    "im1 = im1[:,:,0]\n",
    "im1 = im1.reshape(-1).reshape(1, -1)\n",
    "Xtest = np.append(Xtest, im1,0)\n",
    "\n",
    "im = imageio.imread('C:\\\\Users\\\\student\\\\Pictures\\\\numbers\\\\4-5.png')\n",
    "im1 = resize(im, (8, 8))\n",
    "im1 = im1[:,:,0]\n",
    "im1 = im1.reshape(-1).reshape(1, -1)\n",
    "Xtest = np.append(Xtest, im1,0)\n",
    "\n",
    "im = imageio.imread('C:\\\\Users\\\\student\\\\Pictures\\\\numbers\\\\4-6.png')\n",
    "im1 = resize(im, (8, 8))\n",
    "im1 = im1[:,:,0]\n",
    "im1 = im1.reshape(-1).reshape(1, -1)\n",
    "Xtest = np.append(Xtest, im1,0)\n",
    "\n",
    "im = imageio.imread('C:\\\\Users\\\\student\\\\Pictures\\\\numbers\\\\5-5.png')\n",
    "im1 = resize(im, (8, 8))\n",
    "im1 = im1[:,:,0]\n",
    "im1 = im1.reshape(-1).reshape(1, -1)\n",
    "Xtest = np.append(Xtest, im1,0)\n",
    "\n",
    "im = imageio.imread('C:\\\\Users\\\\student\\\\Pictures\\\\numbers\\\\5-6.png')\n",
    "im1 = resize(im, (8, 8))\n",
    "im1 = im1[:,:,0]\n",
    "im1 = im1.reshape(-1).reshape(1, -1)\n",
    "Xtest = np.append(Xtest, im1,0)\n",
    "\n",
    "im = imageio.imread('C:\\\\Users\\\\student\\\\Pictures\\\\numbers\\\\6-5.png')\n",
    "im1 = resize(im, (8, 8))\n",
    "im1 = im1[:,:,0]\n",
    "im1 = im1.reshape(-1).reshape(1, -1)\n",
    "Xtest = np.append(Xtest, im1,0)\n",
    "\n",
    "im = imageio.imread('C:\\\\Users\\\\student\\\\Pictures\\\\numbers\\\\6-6.png')\n",
    "im1 = resize(im, (8, 8))\n",
    "im1 = im1[:,:,0]\n",
    "im1 = im1.reshape(-1).reshape(1, -1)\n",
    "Xtest = np.append(Xtest, im1,0)\n",
    "\n",
    "im = imageio.imread('C:\\\\Users\\\\student\\\\Pictures\\\\numbers\\\\7-5.png')\n",
    "im1 = resize(im, (8, 8))\n",
    "im1 = im1[:,:,0]\n",
    "im1 = im1.reshape(-1).reshape(1, -1)\n",
    "Xtest = np.append(Xtest, im1,0)\n",
    "\n",
    "im = imageio.imread('C:\\\\Users\\\\student\\\\Pictures\\\\numbers\\\\7-6.png')\n",
    "im1 = resize(im, (8, 8))\n",
    "im1 = im1[:,:,0]\n",
    "im1 = im1.reshape(-1).reshape(1, -1)\n",
    "Xtest = np.append(Xtest, im1,0)\n",
    "\n",
    "im = imageio.imread('C:\\\\Users\\\\student\\\\Pictures\\\\numbers\\\\8-5.png')\n",
    "im1 = resize(im, (8, 8))\n",
    "im1 = im1[:,:,0]\n",
    "im1 = im1.reshape(-1).reshape(1, -1)\n",
    "Xtest = np.append(Xtest, im1,0)\n",
    "\n",
    "im = imageio.imread('C:\\\\Users\\\\student\\\\Pictures\\\\numbers\\\\8-6.png')\n",
    "im1 = resize(im, (8, 8))\n",
    "im1 = im1[:,:,0]\n",
    "im1 = im1.reshape(-1).reshape(1, -1)\n",
    "Xtest = np.append(Xtest, im1,0)\n",
    "\n",
    "im = imageio.imread('C:\\\\Users\\\\student\\\\Pictures\\\\numbers\\\\9-5.png')\n",
    "im1 = resize(im, (8, 8))\n",
    "im1 = im1[:,:,0]\n",
    "im1 = im1.reshape(-1).reshape(1, -1)\n",
    "Xtest = np.append(Xtest, im1,0)\n",
    "\n",
    "im = imageio.imread('C:\\\\Users\\\\student\\\\Pictures\\\\numbers\\\\9-6.png')\n",
    "im1 = resize(im, (8, 8))\n",
    "im1 = im1[:,:,0]\n",
    "im1 = im1.reshape(-1).reshape(1, -1)\n",
    "Xtest = np.append(Xtest, im1,0)\n",
    "ytest=np.array([0,0,0,1,1,1,2,2,2,3,3,3,4,4,4,5,5,5,6,6,6,7,7,7,8,8,8,9,9,9,0,2,1,3,4,5,6,7,8,9,3,5,8,7,1,9,0,4,6,2,1,1,2,2,3,3,4,4,5,5,6,6,7,7,8,8,9,9])\n"
   ]
  },
  {
   "cell_type": "code",
   "execution_count": 146,
   "metadata": {},
   "outputs": [
    {
     "name": "stderr",
     "output_type": "stream",
     "text": [
      "C:\\Users\\student\\Anaconda3\\lib\\site-packages\\sklearn\\ensemble\\forest.py:245: FutureWarning: The default value of n_estimators will change from 10 in version 0.20 to 100 in 0.22.\n",
      "  \"10 in version 0.20 to 100 in 0.22.\", FutureWarning)\n"
     ]
    },
    {
     "data": {
      "text/plain": [
       "RandomForestClassifier(bootstrap=True, class_weight=None, criterion='gini',\n",
       "                       max_depth=None, max_features='auto', max_leaf_nodes=None,\n",
       "                       min_impurity_decrease=0.0, min_impurity_split=None,\n",
       "                       min_samples_leaf=1, min_samples_split=2,\n",
       "                       min_weight_fraction_leaf=0.0, n_estimators=10,\n",
       "                       n_jobs=None, oob_score=False, random_state=None,\n",
       "                       verbose=0, warm_start=False)"
      ]
     },
     "execution_count": 146,
     "metadata": {},
     "output_type": "execute_result"
    }
   ],
   "source": [
    "## create the model\n",
    "\n",
    "model = RandomForestClassifier()\n",
    "model.fit(Xtrain, ytrain)"
   ]
  },
  {
   "cell_type": "code",
   "execution_count": 147,
   "metadata": {},
   "outputs": [
    {
     "data": {
      "image/png": "[encoded data removed]",
      "text/plain": [
       "<Figure size 432x288 with 1 Axes>"
      ]
     },
     "metadata": {},
     "output_type": "display_data"
    },
    {
     "data": {
      "image/png": "[encoded data removed]",
      "text/plain": [
       "<Figure size 432x288 with 1 Axes>"
      ]
     },
     "metadata": {},
     "output_type": "display_data"
    }
   ],
   "source": [
    "ypred_train=model.predict(Xtrain)\n",
    "ypred_test=model.predict(Xtest)\n",
    "from sklearn.metrics import confusion_matrix\n",
    "mat = confusion_matrix(ypred_train, ytrain)\n",
    "sns.heatmap(mat.T, square=True, annot=True, fmt='d', cbar=False)\n",
    "plt.xlabel('true label')\n",
    "plt.ylabel('predicted label');\n",
    "plt.show()\n",
    "\n",
    "mat = confusion_matrix(ypred_test, ytest)\n",
    "sns.heatmap(mat.T, square=True, annot=True, fmt='d', cbar=False)\n",
    "plt.xlabel('true label')\n",
    "plt.ylabel('predicted label');\n",
    "plt.show()"
   ]
  },
  {
   "cell_type": "code",
   "execution_count": 148,
   "metadata": {},
   "outputs": [
    {
     "name": "stdout",
     "output_type": "stream",
     "text": [
      "Input Image\n"
     ]
    },
    {
     "data": {
      "image/png": "[encoded data removed]",
      "text/plain": [
       "<Figure size 432x288 with 1 Axes>"
      ]
     },
     "metadata": {},
     "output_type": "display_data"
    },
    {
     "name": "stdout",
     "output_type": "stream",
     "text": [
      "\n",
      "================================\n",
      "The model predicts: [4]\n"
     ]
    }
   ],
   "source": [
    "## testing the model with an image\n",
    "\n",
    "im = imageio.imread('C:\\\\Users\\\\student\\\\Pictures\\\\new predict.png')\n",
    "print('Input Image')\n",
    "plt.imshow(im)\n",
    "plt.show()\n",
    "from skimage.transform import resize\n",
    "im1 = resize(im, (8, 8))\n",
    "im1 = im1[:,:,0]\n",
    "im1 = im1.reshape(-1).reshape(1, -1)\n",
    "\n",
    "print('')\n",
    "print('================================')\n",
    "print(\"The model predicts:\", model.predict(im1))"
   ]
  },
  {
   "cell_type": "code",
   "execution_count": 149,
   "metadata": {},
   "outputs": [],
   "source": [
    "## save for easier loading\n",
    "\n",
    "x=np.append(Xtrain, Xtest,0)\n",
    "y=np.append(ytrain, ytest)"
   ]
  },
  {
   "cell_type": "code",
   "execution_count": 150,
   "metadata": {},
   "outputs": [
    {
     "name": "stderr",
     "output_type": "stream",
     "text": [
      "C:\\Users\\student\\Anaconda3\\lib\\site-packages\\sklearn\\model_selection\\_search.py:813: DeprecationWarning: The default of the `iid` parameter will change from True to False in version 0.22 and will be removed in 0.24. This will change numeric results when test-set sizes are unequal.\n",
      "  DeprecationWarning)\n"
     ]
    },
    {
     "data": {
      "text/plain": [
       "GridSearchCV(cv=5, error_score='raise-deprecating',\n",
       "             estimator=RandomForestClassifier(bootstrap=True, class_weight=None,\n",
       "                                              criterion='gini', max_depth=None,\n",
       "                                              max_features='auto',\n",
       "                                              max_leaf_nodes=None,\n",
       "                                              min_impurity_decrease=0.0,\n",
       "                                              min_impurity_split=None,\n",
       "                                              min_samples_leaf=1,\n",
       "                                              min_samples_split=2,\n",
       "                                              min_weight_fraction_leaf=0.0,\n",
       "                                              n_estimators='warn', n_jobs=None,\n",
       "                                              oob_score=False,\n",
       "                                              random_state=None, verbose=0,\n",
       "                                              warm_start=False),\n",
       "             iid='warn', n_jobs=None,\n",
       "             param_grid={'max_features': range(1, 64),\n",
       "                         'n_estimators': range(3, 100)},\n",
       "             pre_dispatch='2*n_jobs', refit=True, return_train_score=False,\n",
       "             scoring=None, verbose=0)"
      ]
     },
     "execution_count": 150,
     "metadata": {},
     "output_type": "execute_result"
    }
   ],
   "source": [
    "## attempt to tune\n",
    "\n",
    "param_grid = {'n_estimators': range(3,100), 'max_features':range(1,64)}\n",
    "\n",
    "from sklearn.model_selection import GridSearchCV\n",
    "rf3 = GridSearchCV(RandomForestClassifier(), param_grid, cv = 5)\n",
    "rf3.fit(x,y)"
   ]
  },
  {
   "cell_type": "code",
   "execution_count": 151,
   "metadata": {},
   "outputs": [
    {
     "data": {
      "text/plain": [
       "{'max_features': 3, 'n_estimators': 68}"
      ]
     },
     "execution_count": 151,
     "metadata": {},
     "output_type": "execute_result"
    }
   ],
   "source": [
    "rf3.best_params_\n"
   ]
  },
  {
   "cell_type": "code",
   "execution_count": 152,
   "metadata": {},
   "outputs": [
    {
     "data": {
      "image/png": "[encoded data removed]",
      "text/plain": [
       "<Figure size 432x288 with 1 Axes>"
      ]
     },
     "metadata": {},
     "output_type": "display_data"
    }
   ],
   "source": [
    "rf3.score(x,y)\n",
    "ypred2=rf3.predict(x)\n",
    "from sklearn.metrics import confusion_matrix\n",
    "mat = confusion_matrix(y, ypred2)\n",
    "sns.heatmap(mat.T, square=True, annot=True, fmt='d', cbar=False)\n",
    "plt.xlabel('true label')\n",
    "plt.ylabel('predicted label');\n",
    "plt.show()"
   ]
  },
  {
   "cell_type": "code",
   "execution_count": 541,
   "metadata": {},
   "outputs": [
    {
     "name": "stdout",
     "output_type": "stream",
     "text": [
      "Input Image\n"
     ]
    },
    {
     "data": {
      "image/png": "[encoded data removed]",
      "text/plain": [
       "<Figure size 432x288 with 1 Axes>"
      ]
     },
     "metadata": {},
     "output_type": "display_data"
    },
    {
     "name": "stdout",
     "output_type": "stream",
     "text": [
      "\n",
      "================================\n",
      "The model predicts: [7]\n"
     ]
    }
   ],
   "source": [
    "im = imageio.imread('C:\\\\Users\\\\student\\\\Pictures\\\\numbers\\\\predict4.png')\n",
    "print('Input Image')\n",
    "plt.imshow(im)\n",
    "plt.show()\n",
    "from skimage.transform import resize\n",
    "im1 = resize(im, (8, 8))\n",
    "im1 = im1[:,:,0]\n",
    "im1 = im1.reshape(-1).reshape(1, -1)\n",
    "\n",
    "print('')\n",
    "print('================================')\n",
    "print(\"The model predicts:\", rf3.predict(im1))"
   ]
  },
  {
   "cell_type": "code",
   "execution_count": 503,
   "metadata": {},
   "outputs": [],
   "source": [
    "# Adding the image into the training data\n",
    "im = imageio.imread('C:\\\\Users\\\\student\\\\Pictures\\\\numbers\\\\predict4.png')\n",
    "im1 = resize(im, (8, 8))\n",
    "im1 = im1[:,:,0]\n",
    "im1 = im1.reshape(-1).reshape(1, -1)\n",
    "x = np.append(x, im1,0)\n",
    "y = np.append(y, 2)"
   ]
  },
  {
   "cell_type": "code",
   "execution_count": 504,
   "metadata": {},
   "outputs": [
    {
     "data": {
      "text/plain": [
       "RandomForestClassifier(bootstrap=True, class_weight=None, criterion='gini',\n",
       "                       max_depth=None, max_features='auto', max_leaf_nodes=None,\n",
       "                       min_impurity_decrease=0.0, min_impurity_split=None,\n",
       "                       min_samples_leaf=1, min_samples_split=2,\n",
       "                       min_weight_fraction_leaf=0.0, n_estimators=68,\n",
       "                       n_jobs=None, oob_score=False, random_state=None,\n",
       "                       verbose=0, warm_start=False)"
      ]
     },
     "execution_count": 504,
     "metadata": {},
     "output_type": "execute_result"
    }
   ],
   "source": [
    "# Retrain the model\n",
    "rf = RandomForestClassifier(n_estimators=68)\n",
    "rf.fit(x,y)"
   ]
  },
  {
   "cell_type": "code",
   "execution_count": 505,
   "metadata": {},
   "outputs": [
    {
     "name": "stdout",
     "output_type": "stream",
     "text": [
      "Input Image\n"
     ]
    },
    {
     "data": {
      "image/png": "[encoded data removed]",
      "text/plain": [
       "<Figure size 432x288 with 1 Axes>"
      ]
     },
     "metadata": {},
     "output_type": "display_data"
    },
    {
     "name": "stdout",
     "output_type": "stream",
     "text": [
      "\n",
      "================================\n",
      "The model predicts: [2]\n"
     ]
    }
   ],
   "source": [
    "# Test the new model\n",
    "im = imageio.imread('C:\\\\Users\\\\student\\\\Pictures\\\\numbers\\\\predict4.png')\n",
    "print('Input Image')\n",
    "plt.imshow(im)\n",
    "plt.show()\n",
    "im1 = resize(im, (8, 8))\n",
    "im1 = im1[:,:,0]\n",
    "im1 = im1.reshape(-1).reshape(1, -1)\n",
    "print('')\n",
    "print('================================')\n",
    "print(\"The model predicts:\", rf.predict(im1))"
   ]
  },
  {
   "cell_type": "code",
   "execution_count": 506,
   "metadata": {},
   "outputs": [
    {
     "name": "stdout",
     "output_type": "stream",
     "text": [
      "Input Image\n"
     ]
    },
    {
     "data": {
      "image/png": "[encoded data removed]",
      "text/plain": [
       "<Figure size 432x288 with 1 Axes>"
      ]
     },
     "metadata": {},
     "output_type": "display_data"
    },
    {
     "name": "stdout",
     "output_type": "stream",
     "text": [
      "\n",
      "================================\n",
      "The model predicts: [2]\n"
     ]
    }
   ],
   "source": [
    "# Test the new model\n",
    "im = imageio.imread('C:\\\\Users\\\\student\\\\Pictures\\\\numbers\\\\predict4.png')\n",
    "print('Input Image')\n",
    "plt.imshow(im)\n",
    "plt.show()\n",
    "im1 = resize(im, (8, 8))\n",
    "im1 = im1[:,:,0]\n",
    "im1 = im1.reshape(-1).reshape(1, -1)\n",
    "print('')\n",
    "print('================================')\n",
    "print(\"The model predicts:\", rf.predict(im1))"
   ]
  },
  {
   "cell_type": "code",
   "execution_count": 508,
   "metadata": {},
   "outputs": [
    {
     "name": "stdout",
     "output_type": "stream",
     "text": [
      "Input Image\n"
     ]
    },
    {
     "data": {
      "image/png": "[encoded data removed]",
      "text/plain": [
       "<Figure size 432x288 with 1 Axes>"
      ]
     },
     "metadata": {},
     "output_type": "display_data"
    },
    {
     "name": "stdout",
     "output_type": "stream",
     "text": [
      "\n",
      "================================\n",
      "The model predicts: [5]\n"
     ]
    }
   ],
   "source": [
    "im = imageio.imread('C:\\\\Users\\\\student\\\\Pictures\\\\numbers\\\\predict4.png')\n",
    "print('Input Image')\n",
    "plt.imshow(im)\n",
    "plt.show()\n",
    "im1 = resize(im, (8, 8))\n",
    "im1 = im1[:,:,0]\n",
    "im1 = im1.reshape(-1).reshape(1, -1)\n",
    "print('')\n",
    "print('================================')\n",
    "print(\"The model predicts:\", rf.predict(im1))"
   ]
  },
  {
   "cell_type": "code",
   "execution_count": 511,
   "metadata": {},
   "outputs": [
    {
     "name": "stdout",
     "output_type": "stream",
     "text": [
      "Input Image\n"
     ]
    },
    {
     "data": {
      "image/png": "[encoded data removed]",
      "text/plain": [
       "<Figure size 432x288 with 1 Axes>"
      ]
     },
     "metadata": {},
     "output_type": "display_data"
    },
    {
     "name": "stdout",
     "output_type": "stream",
     "text": [
      "\n",
      "================================\n",
      "The model predicts: [3]\n"
     ]
    }
   ],
   "source": [
    "im = imageio.imread('C:\\\\Users\\\\student\\\\Pictures\\\\numbers\\\\predict4.png')\n",
    "im1 = resize(im, (8, 8))\n",
    "im1 = im1[:,:,0]\n",
    "im1 = im1.reshape(-1).reshape(1, -1)\n",
    "x = np.append(x, im1,0)\n",
    "y = np.append(y, 3)\n",
    "\n",
    "rf = RandomForestClassifier(n_estimators=68)\n",
    "rf.fit(x,y)\n",
    "\n",
    "im = imageio.imread('C:\\\\Users\\\\student\\\\Pictures\\\\numbers\\\\predict4.png')\n",
    "print('Input Image')\n",
    "plt.imshow(im)\n",
    "plt.show()\n",
    "im1 = resize(im, (8, 8))\n",
    "im1 = im1[:,:,0]\n",
    "im1 = im1.reshape(-1).reshape(1, -1)\n",
    "print('')\n",
    "print('================================')\n",
    "print(\"The model predicts:\", rf.predict(im1))"
   ]
  },
  {
   "cell_type": "code",
   "execution_count": 513,
   "metadata": {},
   "outputs": [
    {
     "name": "stdout",
     "output_type": "stream",
     "text": [
      "Input Image\n"
     ]
    },
    {
     "data": {
      "image/png": "[encoded data removed]",
      "text/plain": [
       "<Figure size 432x288 with 1 Axes>"
      ]
     },
     "metadata": {},
     "output_type": "display_data"
    },
    {
     "name": "stdout",
     "output_type": "stream",
     "text": [
      "\n",
      "================================\n",
      "The model predicts: [9]\n"
     ]
    }
   ],
   "source": [
    "im = imageio.imread('C:\\\\Users\\\\student\\\\Pictures\\\\numbers\\\\predict4.png')\n",
    "print('Input Image')\n",
    "plt.imshow(im)\n",
    "plt.show()\n",
    "im1 = resize(im, (8, 8))\n",
    "im1 = im1[:,:,0]\n",
    "im1 = im1.reshape(-1).reshape(1, -1)\n",
    "print('')\n",
    "print('================================')\n",
    "print(\"The model predicts:\", rf.predict(im1))"
   ]
  },
  {
   "cell_type": "code",
   "execution_count": 514,
   "metadata": {},
   "outputs": [
    {
     "name": "stdout",
     "output_type": "stream",
     "text": [
      "Input Image\n"
     ]
    },
    {
     "data": {
      "image/png": "[encoded data removed]",
      "text/plain": [
       "<Figure size 432x288 with 1 Axes>"
      ]
     },
     "metadata": {},
     "output_type": "display_data"
    },
    {
     "name": "stdout",
     "output_type": "stream",
     "text": [
      "\n",
      "================================\n",
      "The model predicts: [4]\n"
     ]
    }
   ],
   "source": [
    "im = imageio.imread('C:\\\\Users\\\\student\\\\Pictures\\\\numbers\\\\predict4.png')\n",
    "im1 = resize(im, (8, 8))\n",
    "im1 = im1[:,:,0]\n",
    "im1 = im1.reshape(-1).reshape(1, -1)\n",
    "x = np.append(x, im1,0)\n",
    "y = np.append(y, 4)\n",
    "\n",
    "rf = RandomForestClassifier(n_estimators=68)\n",
    "rf.fit(x,y)\n",
    "\n",
    "im = imageio.imread('C:\\\\Users\\\\student\\\\Pictures\\\\numbers\\\\predict4.png')\n",
    "print('Input Image')\n",
    "plt.imshow(im)\n",
    "plt.show()\n",
    "im1 = resize(im, (8, 8))\n",
    "im1 = im1[:,:,0]\n",
    "im1 = im1.reshape(-1).reshape(1, -1)\n",
    "print('')\n",
    "print('================================')\n",
    "print(\"The model predicts:\", rf.predict(im1))"
   ]
  },
  {
   "cell_type": "code",
   "execution_count": 516,
   "metadata": {},
   "outputs": [
    {
     "name": "stdout",
     "output_type": "stream",
     "text": [
      "Input Image\n"
     ]
    },
    {
     "data": {
      "image/png": "[encoded data removed]",
      "text/plain": [
       "<Figure size 432x288 with 1 Axes>"
      ]
     },
     "metadata": {},
     "output_type": "display_data"
    },
    {
     "name": "stdout",
     "output_type": "stream",
     "text": [
      "\n",
      "================================\n",
      "The model predicts: [3]\n"
     ]
    }
   ],
   "source": [
    "im = imageio.imread('C:\\\\Users\\\\student\\\\Pictures\\\\numbers\\\\predict4.png')\n",
    "print('Input Image')\n",
    "plt.imshow(im)\n",
    "plt.show()\n",
    "im1 = resize(im, (8, 8))\n",
    "im1 = im1[:,:,0]\n",
    "im1 = im1.reshape(-1).reshape(1, -1)\n",
    "print('')\n",
    "print('================================')\n",
    "print(\"The model predicts:\", rf.predict(im1))"
   ]
  },
  {
   "cell_type": "code",
   "execution_count": 517,
   "metadata": {},
   "outputs": [
    {
     "name": "stdout",
     "output_type": "stream",
     "text": [
      "Input Image\n"
     ]
    },
    {
     "data": {
      "image/png": "[encoded data removed]",
      "text/plain": [
       "<Figure size 432x288 with 1 Axes>"
      ]
     },
     "metadata": {},
     "output_type": "display_data"
    },
    {
     "name": "stdout",
     "output_type": "stream",
     "text": [
      "\n",
      "================================\n",
      "The model predicts: [5]\n"
     ]
    }
   ],
   "source": [
    "im = imageio.imread('C:\\\\Users\\\\student\\\\Pictures\\\\numbers\\\\predict4.png')\n",
    "im1 = resize(im, (8, 8))\n",
    "im1 = im1[:,:,0]\n",
    "im1 = im1.reshape(-1).reshape(1, -1)\n",
    "x = np.append(x, im1,0)\n",
    "y = np.append(y, 5)\n",
    "\n",
    "rf = RandomForestClassifier(n_estimators=68)\n",
    "rf.fit(x,y)\n",
    "\n",
    "im = imageio.imread('C:\\\\Users\\\\student\\\\Pictures\\\\numbers\\\\predict4.png')\n",
    "print('Input Image')\n",
    "plt.imshow(im)\n",
    "plt.show()\n",
    "im1 = resize(im, (8, 8))\n",
    "im1 = im1[:,:,0]\n",
    "im1 = im1.reshape(-1).reshape(1, -1)\n",
    "print('')\n",
    "print('================================')\n",
    "print(\"The model predicts:\", rf.predict(im1))"
   ]
  },
  {
   "cell_type": "code",
   "execution_count": 519,
   "metadata": {},
   "outputs": [
    {
     "name": "stdout",
     "output_type": "stream",
     "text": [
      "Input Image\n"
     ]
    },
    {
     "data": {
      "image/png": "[encoded data removed]",
      "text/plain": [
       "<Figure size 432x288 with 1 Axes>"
      ]
     },
     "metadata": {},
     "output_type": "display_data"
    },
    {
     "name": "stdout",
     "output_type": "stream",
     "text": [
      "\n",
      "================================\n",
      "The model predicts: [2]\n"
     ]
    }
   ],
   "source": [
    "im = imageio.imread('C:\\\\Users\\\\student\\\\Pictures\\\\numbers\\\\predict4.png')\n",
    "print('Input Image')\n",
    "plt.imshow(im)\n",
    "plt.show()\n",
    "im1 = resize(im, (8, 8))\n",
    "im1 = im1[:,:,0]\n",
    "im1 = im1.reshape(-1).reshape(1, -1)\n",
    "print('')\n",
    "print('================================')\n",
    "print(\"The model predicts:\", rf.predict(im1))"
   ]
  },
  {
   "cell_type": "code",
   "execution_count": 521,
   "metadata": {},
   "outputs": [
    {
     "name": "stdout",
     "output_type": "stream",
     "text": [
      "Input Image\n"
     ]
    },
    {
     "data": {
      "image/png": "[encoded data removed]",
      "text/plain": [
       "<Figure size 432x288 with 1 Axes>"
      ]
     },
     "metadata": {},
     "output_type": "display_data"
    },
    {
     "name": "stdout",
     "output_type": "stream",
     "text": [
      "\n",
      "================================\n",
      "The model predicts: [6]\n"
     ]
    }
   ],
   "source": [
    "im = imageio.imread('C:\\\\Users\\\\student\\\\Pictures\\\\numbers\\\\predict4.png')\n",
    "im1 = resize(im, (8, 8))\n",
    "im1 = im1[:,:,0]\n",
    "im1 = im1.reshape(-1).reshape(1, -1)\n",
    "x = np.append(x, im1,0)\n",
    "y = np.append(y, 6)\n",
    "\n",
    "rf = RandomForestClassifier(n_estimators=68)\n",
    "rf.fit(x,y)\n",
    "\n",
    "im = imageio.imread('C:\\\\Users\\\\student\\\\Pictures\\\\numbers\\\\predict4.png')\n",
    "print('Input Image')\n",
    "plt.imshow(im)\n",
    "plt.show()\n",
    "im1 = resize(im, (8, 8))\n",
    "im1 = im1[:,:,0]\n",
    "im1 = im1.reshape(-1).reshape(1, -1)\n",
    "print('')\n",
    "print('================================')\n",
    "print(\"The model predicts:\", rf.predict(im1))"
   ]
  },
  {
   "cell_type": "code",
   "execution_count": 523,
   "metadata": {},
   "outputs": [
    {
     "name": "stdout",
     "output_type": "stream",
     "text": [
      "Input Image\n"
     ]
    },
    {
     "data": {
      "image/png": "[encoded data removed]",
      "text/plain": [
       "<Figure size 432x288 with 1 Axes>"
      ]
     },
     "metadata": {},
     "output_type": "display_data"
    },
    {
     "name": "stdout",
     "output_type": "stream",
     "text": [
      "\n",
      "================================\n",
      "The model predicts: [1]\n"
     ]
    }
   ],
   "source": [
    "im = imageio.imread('C:\\\\Users\\\\student\\\\Pictures\\\\numbers\\\\predict4.png')\n",
    "print('Input Image')\n",
    "plt.imshow(im)\n",
    "plt.show()\n",
    "im1 = resize(im, (8, 8))\n",
    "im1 = im1[:,:,0]\n",
    "im1 = im1.reshape(-1).reshape(1, -1)\n",
    "print('')\n",
    "print('================================')\n",
    "print(\"The model predicts:\", rf.predict(im1))"
   ]
  },
  {
   "cell_type": "code",
   "execution_count": 524,
   "metadata": {},
   "outputs": [
    {
     "name": "stdout",
     "output_type": "stream",
     "text": [
      "Input Image\n"
     ]
    },
    {
     "data": {
      "image/png": "[encoded data removed]",
      "text/plain": [
       "<Figure size 432x288 with 1 Axes>"
      ]
     },
     "metadata": {},
     "output_type": "display_data"
    },
    {
     "name": "stdout",
     "output_type": "stream",
     "text": [
      "\n",
      "================================\n",
      "The model predicts: [7]\n"
     ]
    }
   ],
   "source": [
    "im = imageio.imread('C:\\\\Users\\\\student\\\\Pictures\\\\numbers\\\\predict4.png')\n",
    "im1 = resize(im, (8, 8))\n",
    "im1 = im1[:,:,0]\n",
    "im1 = im1.reshape(-1).reshape(1, -1)\n",
    "x = np.append(x, im1,0)\n",
    "y = np.append(y, 7)\n",
    "\n",
    "rf = RandomForestClassifier(n_estimators=68)\n",
    "rf.fit(x,y)\n",
    "\n",
    "im = imageio.imread('C:\\\\Users\\\\student\\\\Pictures\\\\numbers\\\\predict4.png')\n",
    "print('Input Image')\n",
    "plt.imshow(im)\n",
    "plt.show()\n",
    "im1 = resize(im, (8, 8))\n",
    "im1 = im1[:,:,0]\n",
    "im1 = im1.reshape(-1).reshape(1, -1)\n",
    "print('')\n",
    "print('================================')\n",
    "print(\"The model predicts:\", rf.predict(im1))"
   ]
  },
  {
   "cell_type": "code",
   "execution_count": 526,
   "metadata": {},
   "outputs": [
    {
     "name": "stdout",
     "output_type": "stream",
     "text": [
      "Input Image\n"
     ]
    },
    {
     "data": {
      "image/png": "[encoded data removed]",
      "text/plain": [
       "<Figure size 432x288 with 1 Axes>"
      ]
     },
     "metadata": {},
     "output_type": "display_data"
    },
    {
     "name": "stdout",
     "output_type": "stream",
     "text": [
      "\n",
      "================================\n",
      "The model predicts: [1]\n"
     ]
    }
   ],
   "source": [
    "\n",
    "im = imageio.imread('C:\\\\Users\\\\student\\\\Pictures\\\\numbers\\\\predict4.png')\n",
    "print('Input Image')\n",
    "plt.imshow(im)\n",
    "plt.show()\n",
    "im1 = resize(im, (8, 8))\n",
    "im1 = im1[:,:,0]\n",
    "im1 = im1.reshape(-1).reshape(1, -1)\n",
    "print('')\n",
    "print('================================')\n",
    "print(\"The model predicts:\", rf.predict(im1))"
   ]
  },
  {
   "cell_type": "code",
   "execution_count": 527,
   "metadata": {},
   "outputs": [
    {
     "data": {
      "text/plain": [
       "RandomForestClassifier(bootstrap=True, class_weight=None, criterion='gini',\n",
       "                       max_depth=None, max_features='auto', max_leaf_nodes=None,\n",
       "                       min_impurity_decrease=0.0, min_impurity_split=None,\n",
       "                       min_samples_leaf=1, min_samples_split=2,\n",
       "                       min_weight_fraction_leaf=0.0, n_estimators=68,\n",
       "                       n_jobs=None, oob_score=False, random_state=None,\n",
       "                       verbose=0, warm_start=False)"
      ]
     },
     "execution_count": 527,
     "metadata": {},
     "output_type": "execute_result"
    }
   ],
   "source": [
    "im = imageio.imread('C:\\\\Users\\\\student\\\\Pictures\\\\numbers\\\\predict4.png')\n",
    "im1 = resize(im, (8, 8))\n",
    "im1 = im1[:,:,0]\n",
    "im1 = im1.reshape(-1).reshape(1, -1)\n",
    "x = np.append(x, im1,0)\n",
    "y = np.append(y, 7)\n",
    "\n",
    "rf = RandomForestClassifier(n_estimators=68)\n",
    "rf.fit(x,y)"
   ]
  },
  {
   "cell_type": "code",
   "execution_count": 528,
   "metadata": {},
   "outputs": [
    {
     "name": "stdout",
     "output_type": "stream",
     "text": [
      "Input Image\n"
     ]
    },
    {
     "data": {
      "image/png": "[encoded data removed]",
      "text/plain": [
       "<Figure size 432x288 with 1 Axes>"
      ]
     },
     "metadata": {},
     "output_type": "display_data"
    },
    {
     "name": "stdout",
     "output_type": "stream",
     "text": [
      "\n",
      "================================\n",
      "The model predicts: [7]\n"
     ]
    }
   ],
   "source": [
    "im = imageio.imread('C:\\\\Users\\\\student\\\\Pictures\\\\numbers\\\\predict4.png')\n",
    "print('Input Image')\n",
    "plt.imshow(im)\n",
    "plt.show()\n",
    "im1 = resize(im, (8, 8))\n",
    "im1 = im1[:,:,0]\n",
    "im1 = im1.reshape(-1).reshape(1, -1)\n",
    "print('')\n",
    "print('================================')\n",
    "print(\"The model predicts:\", rf.predict(im1))"
   ]
  },
  {
   "cell_type": "code",
   "execution_count": 653,
   "metadata": {},
   "outputs": [
    {
     "name": "stdout",
     "output_type": "stream",
     "text": [
      "Input Image\n"
     ]
    },
    {
     "data": {
      "image/png": "[encoded data removed]",
      "text/plain": [
       "<Figure size 432x288 with 1 Axes>"
      ]
     },
     "metadata": {},
     "output_type": "display_data"
    },
    {
     "name": "stdout",
     "output_type": "stream",
     "text": [
      "\n",
      "================================\n",
      "The model predicts: [9]\n"
     ]
    }
   ],
   "source": [
    "## THIS IS THE FINAL MODEL I USED!!!!\n",
    "\n",
    "im = imageio.imread('C:\\\\Users\\\\student\\\\Pictures\\\\numbers\\\\predict4.png')\n",
    "print('Input Image')\n",
    "plt.imshow(im)\n",
    "plt.show()\n",
    "im1 = resize(im, (8, 8))\n",
    "im1 = im1[:,:,0]\n",
    "im1 = im1.reshape(-1).reshape(1, -1)\n",
    "print('')\n",
    "print('================================')\n",
    "print(\"The model predicts:\", rf.predict(im1))"
   ]
  },
  {
   "cell_type": "code",
   "execution_count": 649,
   "metadata": {},
   "outputs": [
    {
     "data": {
      "text/plain": [
       "RandomForestClassifier(bootstrap=True, class_weight=None, criterion='gini',\n",
       "                       max_depth=None, max_features='auto', max_leaf_nodes=None,\n",
       "                       min_impurity_decrease=0.0, min_impurity_split=None,\n",
       "                       min_samples_leaf=1, min_samples_split=2,\n",
       "                       min_weight_fraction_leaf=0.0, n_estimators=68,\n",
       "                       n_jobs=None, oob_score=False, random_state=None,\n",
       "                       verbose=0, warm_start=False)"
      ]
     },
     "execution_count": 649,
     "metadata": {},
     "output_type": "execute_result"
    }
   ],
   "source": [
    "im = imageio.imread('C:\\\\Users\\\\student\\\\Pictures\\\\numbers\\\\predict4.png')\n",
    "im1 = resize(im, (8, 8))\n",
    "im1 = im1[:,:,0]\n",
    "im1 = im1.reshape(-1).reshape(1, -1)\n",
    "x = np.append(x, im1,0)\n",
    "y = np.append(y, 6)\n",
    "\n",
    "rf = RandomForestClassifier(n_estimators=68)\n",
    "rf.fit(x,y)\n",
    "\n"
   ]
  },
  {
   "cell_type": "code",
   "execution_count": 650,
   "metadata": {},
   "outputs": [
    {
     "name": "stdout",
     "output_type": "stream",
     "text": [
      "Input Image\n"
     ]
    },
    {
     "data": {
      "image/png": "[encoded data removed]",
      "text/plain": [
       "<Figure size 432x288 with 1 Axes>"
      ]
     },
     "metadata": {},
     "output_type": "display_data"
    },
    {
     "name": "stdout",
     "output_type": "stream",
     "text": [
      "\n",
      "================================\n",
      "The model predicts: [6]\n"
     ]
    }
   ],
   "source": [
    "\n",
    "\n",
    "im = imageio.imread('C:\\\\Users\\\\student\\\\Pictures\\\\numbers\\\\predict4.png')\n",
    "print('Input Image')\n",
    "plt.imshow(im)\n",
    "plt.show()\n",
    "im1 = resize(im, (8, 8))\n",
    "im1 = im1[:,:,0]\n",
    "im1 = im1.reshape(-1).reshape(1, -1)\n",
    "print('')\n",
    "print('================================')\n",
    "print(\"The model predicts:\", rf.predict(im1))"
   ]
  },
  {
   "cell_type": "code",
   "execution_count": null,
   "metadata": {},
   "outputs": [],
   "source": []
  }
 ],
 "metadata": {
  "kernelspec": {
   "display_name": "Python 3",
   "language": "python",
   "name": "python3"
  },
  "language_info": {
   "codemirror_mode": {
    "name": "ipython",
    "version": 3
   },
   "file_extension": ".py",
   "mimetype": "text/x-python",
   "name": "python",
   "nbconvert_exporter": "python",
   "pygments_lexer": "ipython3",
   "version": "3.7.3"
  }
 },
 "nbformat": 4,
 "nbformat_minor": 4
}
